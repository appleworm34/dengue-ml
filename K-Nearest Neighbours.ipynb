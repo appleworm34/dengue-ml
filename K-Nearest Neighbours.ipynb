{
 "cells": [
  {
   "cell_type": "code",
   "execution_count": 1,
   "id": "34a98ef7",
   "metadata": {},
   "outputs": [],
   "source": [
    "import numpy as np\n",
    "import pandas as pd\n",
    "import seaborn as sb\n",
    "import matplotlib.pyplot as plt\n",
    "sb.set()"
   ]
  },
  {
   "cell_type": "code",
   "execution_count": 2,
   "id": "4fd99439",
   "metadata": {},
   "outputs": [],
   "source": [
    "cleaned_data = pd.read_csv(\"cleaned_data.csv\", index_col = 0)\n",
    "cases = pd.read_csv(\"cases.csv\", index_col = 0)"
   ]
  },
  {
   "cell_type": "markdown",
   "id": "8d8ba467",
   "metadata": {},
   "source": [
    "### K-Nearest Neighbors "
   ]
  },
  {
   "cell_type": "markdown",
   "id": "e6d2d14c",
   "metadata": {},
   "source": [
    "The k-nearest neighbors (KNN) algorithm is a simple, easy-to-implement supervised machine learning algorithm that can be used to solve both classification and regression problems."
   ]
  },
  {
   "cell_type": "code",
   "execution_count": 3,
   "id": "7e47c8ca",
   "metadata": {},
   "outputs": [
    {
     "name": "stdout",
     "output_type": "stream",
     "text": [
      "Train Set : (1164, 13) (1164, 1)\n",
      "Test Set  : (292, 13) (292, 1)\n"
     ]
    }
   ],
   "source": [
    "#split the data\n",
    "from sklearn.model_selection import train_test_split\n",
    "from sklearn.preprocessing import StandardScaler\n",
    "\n",
    "#scaling data\n",
    "sc_X = StandardScaler()\n",
    "sc_y = StandardScaler()\n",
    "X = sc_X.fit_transform(cleaned_data)\n",
    "y = sc_y.fit_transform(cases)\n",
    "\n",
    "X_train, X_test, y_train, y_test = train_test_split(X, y, test_size=0.2, random_state=101)\n",
    "\n",
    "# check the sample sizes\n",
    "print(\"Train Set :\", X_train.shape, y_train.shape)\n",
    "print(\"Test Set  :\", X_test.shape, y_test.shape)"
   ]
  },
  {
   "cell_type": "markdown",
   "id": "0f1f51ac",
   "metadata": {},
   "source": [
    "Using KFold to compare"
   ]
  },
  {
   "cell_type": "code",
   "execution_count": 4,
   "id": "842e4792",
   "metadata": {},
   "outputs": [],
   "source": [
    "from sklearn.neighbors import KNeighborsRegressor\n",
    "knn_model = KNeighborsRegressor(n_neighbors=3)"
   ]
  },
  {
   "cell_type": "code",
   "execution_count": 5,
   "id": "d19b0666",
   "metadata": {},
   "outputs": [
    {
     "name": "stdout",
     "output_type": "stream",
     "text": [
      "Mean of MSE =  1.1884268110944682\n"
     ]
    }
   ],
   "source": [
    "from sklearn.model_selection import KFold\n",
    "from sklearn.model_selection import cross_val_score\n",
    "import sklearn.metrics as metrics\n",
    "\n",
    "cv = KFold(n_splits = 10, random_state = 1, shuffle = True)\n",
    "\n",
    "scores = cross_val_score(knn_model, X_train, y_train.ravel(), scoring='neg_mean_squared_error', cv=cv, n_jobs=1)\n",
    "\n",
    "print(\"Mean of MSE = \", np.mean(scores)*-1)"
   ]
  },
  {
   "cell_type": "markdown",
   "id": "d0118ee6",
   "metadata": {},
   "source": [
    "We then tune and optimize KNN by finding the best performing value of K"
   ]
  },
  {
   "cell_type": "code",
   "execution_count": 6,
   "id": "a76dd828",
   "metadata": {},
   "outputs": [
    {
     "data": {
      "text/plain": [
       "GridSearchCV(estimator=KNeighborsRegressor(),\n",
       "             param_grid={'n_neighbors': range(1, 50)})"
      ]
     },
     "execution_count": 6,
     "metadata": {},
     "output_type": "execute_result"
    }
   ],
   "source": [
    "from sklearn.model_selection import GridSearchCV\n",
    "\n",
    "parameters = {\"n_neighbors\": range(1, 50)}\n",
    "gridsearch = GridSearchCV(KNeighborsRegressor(), parameters)\n",
    "gridsearch.fit(X_train, y_train)"
   ]
  },
  {
   "cell_type": "markdown",
   "id": "5cda41bd",
   "metadata": {},
   "source": [
    "Best performing value of K:"
   ]
  },
  {
   "cell_type": "code",
   "execution_count": 7,
   "id": "e79c8e42",
   "metadata": {},
   "outputs": [
    {
     "data": {
      "text/plain": [
       "{'n_neighbors': 25}"
      ]
     },
     "execution_count": 7,
     "metadata": {},
     "output_type": "execute_result"
    }
   ],
   "source": [
    "gridsearch.best_params_"
   ]
  },
  {
   "cell_type": "code",
   "execution_count": 8,
   "id": "c516b891",
   "metadata": {},
   "outputs": [
    {
     "name": "stdout",
     "output_type": "stream",
     "text": [
      "Mean of MSE =  0.9150660474776989\n"
     ]
    }
   ],
   "source": [
    "scores1 = cross_val_score(gridsearch, X_train, y_train.ravel(), scoring='neg_mean_squared_error', cv=cv, n_jobs=1)\n",
    "\n",
    "print(\"Mean of MSE = \", np.mean(scores1)*-1)"
   ]
  },
  {
   "cell_type": "markdown",
   "id": "df3d7cd0",
   "metadata": {},
   "source": [
    "Adding Weighted Average of Neighbors Based on Distance"
   ]
  },
  {
   "cell_type": "code",
   "execution_count": 9,
   "id": "87312dc1",
   "metadata": {},
   "outputs": [
    {
     "data": {
      "text/plain": [
       "GridSearchCV(estimator=KNeighborsRegressor(),\n",
       "             param_grid={'n_neighbors': range(1, 50),\n",
       "                         'weights': ['uniform', 'distance']})"
      ]
     },
     "execution_count": 9,
     "metadata": {},
     "output_type": "execute_result"
    }
   ],
   "source": [
    "parameters = {\n",
    "\"n_neighbors\": range(1, 50),\n",
    "\"weights\": [\"uniform\", \"distance\"],\n",
    "}\n",
    "w_gridsearch = GridSearchCV(KNeighborsRegressor(), parameters)\n",
    "w_gridsearch.fit(X_train, y_train)"
   ]
  },
  {
   "cell_type": "code",
   "execution_count": 10,
   "id": "745d5b58",
   "metadata": {},
   "outputs": [
    {
     "data": {
      "text/plain": [
       "{'n_neighbors': 25, 'weights': 'uniform'}"
      ]
     },
     "execution_count": 10,
     "metadata": {},
     "output_type": "execute_result"
    }
   ],
   "source": [
    "w_gridsearch.best_params_"
   ]
  },
  {
   "cell_type": "code",
   "execution_count": 11,
   "id": "0689d256",
   "metadata": {},
   "outputs": [
    {
     "name": "stdout",
     "output_type": "stream",
     "text": [
      "Mean of MSE =  0.916589889403021\n"
     ]
    }
   ],
   "source": [
    "scores2 = cross_val_score(w_gridsearch, X_train, y_train.ravel(), scoring='neg_mean_squared_error', cv=cv, n_jobs=1)\n",
    "\n",
    "print(\"Mean of MSE = \", np.mean(scores2)*-1)"
   ]
  },
  {
   "cell_type": "markdown",
   "id": "f4a659ad",
   "metadata": {},
   "source": [
    "Further Improving on kNN in scikit-learn With Bagging"
   ]
  },
  {
   "cell_type": "code",
   "execution_count": 12,
   "id": "a4883187",
   "metadata": {},
   "outputs": [],
   "source": [
    "best_k = w_gridsearch.best_params_[\"n_neighbors\"]\n",
    "best_weights = w_gridsearch.best_params_[\"weights\"]\n",
    "bagged_knn = KNeighborsRegressor(n_neighbors=best_k, weights=best_weights)"
   ]
  },
  {
   "cell_type": "code",
   "execution_count": 13,
   "id": "c91cc573",
   "metadata": {},
   "outputs": [],
   "source": [
    "from sklearn.ensemble import BaggingRegressor\n",
    "bagging_model = BaggingRegressor(bagged_knn, n_estimators=100)"
   ]
  },
  {
   "cell_type": "code",
   "execution_count": 14,
   "id": "9f7e215e",
   "metadata": {},
   "outputs": [
    {
     "name": "stdout",
     "output_type": "stream",
     "text": [
      "Mean of MSE =  0.9104990391866169\n"
     ]
    }
   ],
   "source": [
    "scores3 = cross_val_score(bagging_model, X_train, y_train.ravel(), scoring='neg_mean_squared_error', cv=cv, n_jobs=1)\n",
    "\n",
    "print(\"Mean of MSE = \", np.mean(scores3)*-1)"
   ]
  },
  {
   "cell_type": "code",
   "execution_count": 15,
   "id": "edecf9e7",
   "metadata": {},
   "outputs": [
    {
     "name": "stdout",
     "output_type": "stream",
     "text": [
      "Comparison of MSE of the Four Models:\n",
      "Arbitrary k:  1.1884268110944682\n",
      "GridSearchCV for k:  0.9150660474776989\n",
      "GridSearchCV for k and weights:  0.916589889403021\n",
      "Bagging and GridSearchCV:  0.9104990391866169\n"
     ]
    }
   ],
   "source": [
    "print(\"Comparison of MSE of the Four Models:\")\n",
    "\n",
    "print(\"Arbitrary k: \", np.mean(scores)*-1)\n",
    "\n",
    "print(\"GridSearchCV for k: \", np.mean(scores1)*-1)\n",
    "\n",
    "print(\"GridSearchCV for k and weights: \", np.mean(scores2)*-1)\n",
    "\n",
    "print(\"Bagging and GridSearchCV: \", np.mean(scores3)*-1)"
   ]
  },
  {
   "cell_type": "markdown",
   "id": "f5336cf5",
   "metadata": {},
   "source": [
    "Thus, based on the results, we use kNN with bagging to predict the total cases."
   ]
  },
  {
   "cell_type": "code",
   "execution_count": 16,
   "id": "334628b0",
   "metadata": {},
   "outputs": [],
   "source": [
    "bagging_model.fit(X_train, y_train.ravel())\n",
    "test_preds_grid = bagging_model.predict(X_test)\n",
    "cases_pred = sc_y.inverse_transform(test_preds_grid.reshape(-1,1)) "
   ]
  },
  {
   "cell_type": "code",
   "execution_count": 17,
   "id": "4f6d0955",
   "metadata": {},
   "outputs": [
    {
     "data": {
      "text/html": [
       "<div>\n",
       "<style scoped>\n",
       "    .dataframe tbody tr th:only-of-type {\n",
       "        vertical-align: middle;\n",
       "    }\n",
       "\n",
       "    .dataframe tbody tr th {\n",
       "        vertical-align: top;\n",
       "    }\n",
       "\n",
       "    .dataframe thead th {\n",
       "        text-align: right;\n",
       "    }\n",
       "</style>\n",
       "<table border=\"1\" class=\"dataframe\">\n",
       "  <thead>\n",
       "    <tr style=\"text-align: right;\">\n",
       "      <th></th>\n",
       "      <th>total_cases</th>\n",
       "      <th>pred_total_cases</th>\n",
       "    </tr>\n",
       "  </thead>\n",
       "  <tbody>\n",
       "    <tr>\n",
       "      <th>0</th>\n",
       "      <td>24.0</td>\n",
       "      <td>29.0</td>\n",
       "    </tr>\n",
       "    <tr>\n",
       "      <th>1</th>\n",
       "      <td>24.0</td>\n",
       "      <td>17.0</td>\n",
       "    </tr>\n",
       "    <tr>\n",
       "      <th>2</th>\n",
       "      <td>7.0</td>\n",
       "      <td>51.0</td>\n",
       "    </tr>\n",
       "    <tr>\n",
       "      <th>3</th>\n",
       "      <td>10.0</td>\n",
       "      <td>12.0</td>\n",
       "    </tr>\n",
       "    <tr>\n",
       "      <th>4</th>\n",
       "      <td>29.0</td>\n",
       "      <td>48.0</td>\n",
       "    </tr>\n",
       "  </tbody>\n",
       "</table>\n",
       "</div>"
      ],
      "text/plain": [
       "   total_cases  pred_total_cases\n",
       "0         24.0              29.0\n",
       "1         24.0              17.0\n",
       "2          7.0              51.0\n",
       "3         10.0              12.0\n",
       "4         29.0              48.0"
      ]
     },
     "execution_count": 17,
     "metadata": {},
     "output_type": "execute_result"
    }
   ],
   "source": [
    "y_test = sc_y.inverse_transform(y_test)\n",
    "df1 = pd.DataFrame(y_test, columns = ['total_cases'])\n",
    "\n",
    "# rounding up to nearest whole no.\n",
    "cases_pred = np.rint(cases_pred)\n",
    "\n",
    "df = pd.DataFrame(cases_pred, columns = ['pred_total_cases'])\n",
    "\n",
    "# combining total cases test and the predicted total cases into a dataframe\n",
    "all_data = pd.concat([df1, df], axis = 1)\n",
    "all_data.head()"
   ]
  },
  {
   "cell_type": "code",
   "execution_count": 18,
   "id": "083f3f39",
   "metadata": {},
   "outputs": [
    {
     "name": "stdout",
     "output_type": "stream",
     "text": [
      "MAE of model on test data:  18.318493150684933\n"
     ]
    }
   ],
   "source": [
    "print(\"MAE of model on test data: \", metrics.mean_absolute_error(y_test, cases_pred))"
   ]
  }
 ],
 "metadata": {
  "kernelspec": {
   "display_name": "Python 3 (ipykernel)",
   "language": "python",
   "name": "python3"
  },
  "language_info": {
   "codemirror_mode": {
    "name": "ipython",
    "version": 3
   },
   "file_extension": ".py",
   "mimetype": "text/x-python",
   "name": "python",
   "nbconvert_exporter": "python",
   "pygments_lexer": "ipython3",
   "version": "3.9.7"
  }
 },
 "nbformat": 4,
 "nbformat_minor": 5
}
